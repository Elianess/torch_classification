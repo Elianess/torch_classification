{
  "nbformat": 4,
  "nbformat_minor": 0,
  "metadata": {
    "colab": {
      "provenance": []
    },
    "kernelspec": {
      "name": "python3",
      "display_name": "Python 3"
    },
    "language_info": {
      "name": "python"
    }
  },
  "cells": [
    {
      "cell_type": "code",
      "execution_count": null,
      "metadata": {
        "id": "lJ4W4mC3xbX9"
      },
      "outputs": [],
      "source": [
        "# теперь реализуем нейросеть для задачи классификации\n",
        "import torch\n",
        "import random\n",
        "import numpy as np\n",
        "\n",
        "# чтобы данные нейронной сети не были постоянно разные (чтобы увидеть измененеия\n",
        "# нейронной сети) используются генераторы случайных последовательностей, которые\n",
        "# дают возможность использовать одну генерацию нейронной сети\n",
        "random.seed(0)\n",
        "np.random.seed(0)\n",
        "torch.manual_seed(0)\n",
        "torch.cuda.manual_seed(0)\n",
        "torch.backends.cudnn.deterministic = True"
      ]
    },
    {
      "cell_type": "code",
      "source": [
        "import sklearn.datasets\n",
        "wine = sklearn.datasets.load_wine() # загружаем датасет\n",
        "wine.data.shape # размер датасета (178 разных вин, 13 параметров, 3 класса на\n",
        "                # которые можно классифицировать конкретную бутылку)"
      ],
      "metadata": {
        "colab": {
          "base_uri": "https://localhost:8080/"
        },
        "id": "papAoh5g0sk0",
        "outputId": "50c76196-ad92-44fa-adf2-ca98c2361963"
      },
      "execution_count": null,
      "outputs": [
        {
          "output_type": "execute_result",
          "data": {
            "text/plain": [
              "(178, 13)"
            ]
          },
          "metadata": {},
          "execution_count": 3
        }
      ]
    },
    {
      "cell_type": "code",
      "source": [
        "# теперь надо разбить датасет на две части, на обучающую и тестовую выборки\n",
        "from sklearn.model_selection import train_test_split\n",
        "\n",
        "X_train, X_test, y_train, y_test = train_test_split(wine.data[:, :2], # датасет используем только 2 колонки из 13\n",
        "                                                    wine.target, # таргеты, классы\n",
        "                                                    test_size = 0.3, # тестовая выборка 30 проценов\n",
        "                                                    shuffle = True) # размешаем датасет\n",
        "\n",
        "# обернем все фолды в тензоры\n",
        "X_train = torch.FloatTensor(X_train) # т.к. float числа, пихаем во floattensor\n",
        "X_test = torch.FloatTensor(X_test)\n",
        "y_train = torch.LongTensor(y_train) # т.к. ччисла не дробные пихаем в longtesor\n",
        "y_test = torch.LongTensor(y_test )"
      ],
      "metadata": {
        "id": "PeFGUVcF19e_"
      },
      "execution_count": null,
      "outputs": []
    },
    {
      "cell_type": "code",
      "source": [
        "class WineNet(torch.nn.Module):\n",
        "    def __init__(self, n_hidden_neurons): # n_hidden_neurons - кол-во скрытых нейронов\n",
        "        super(WineNet, self).__init__()\n",
        "\n",
        "        # наша нейросеть будет состоять из 3 слоев, где 2 будут скрыты\n",
        "        self.fc1 = torch.nn.Linear(2, n_hidden_neurons) # первый слой fully connected из 2х входов, 2 колонки для кажой бутылки вина, на выходе n скрытых нейровнов\n",
        "        self.activ1 = torch.nn.Sigmoid() # активация - сигмойда\n",
        "        # self.fc2 = torch.nn.Linear(n_hidden_neurons,\n",
        "        #                            n_hidden_neurons) # скрытый слой, который n нейронов, превращает в n нейронов\n",
        "        # self.activ2 = torch.nn.Sigmoid() # активация\n",
        "        self.fc3 = torch.nn.Linear(n_hidden_neurons, 3) # выдет 3 нейрона, где каждый нейрон, будет отвечать за каждый свой класс\n",
        "        self.sm = torch.nn.Softmax(dim = 1) # в fc3 мы получим некоторые числа, которые мы передаем сюда, после чего получим вероятности классов\n",
        "\n",
        "    # реализует граф нашей нейронной сети\n",
        "    # передаем двухмерный тензор с двумя колонками\n",
        "    def forward(self, x):\n",
        "        x = self.fc1(x)\n",
        "        x = self.activ1(x)\n",
        "        # x = self.fc2(x)\n",
        "        # x = self.activ2(x)\n",
        "        x = self.fc3(x)\n",
        "        # не полоижили сюда softmax потому что, после того, как мы посчитаем выходы нейронной сети мы хотим прогнать их через softmax и посчитать кросс-энтропию\n",
        "        # В формуле кросс-энтропии есть логарифм, то есть выходы нейронной сети прогоняются через логарифм\n",
        "        # В формуле softmax тоже учавствуют экспоненты, эти экспоненты и логарифимы взаимно уничтожаются\n",
        "        # И получается, что нам не нужно вычислять экспоненты, чтобы посчитать кросс-энтропию. Мы можем ее посчиать не считая softmax, соответвственно, если мы хотим просто считать лосы\n",
        "        # нам softmax не нужнен. А если хотим посчитать вероятности, то его уже счиать нужно\n",
        "        return x\n",
        "\n",
        "    # чтобы считаь вероятности\n",
        "    def inference(self, x):\n",
        "        x = self.forward(x)\n",
        "        x = self.sm(x)\n",
        "        return x\n",
        "\n",
        "wine_net = WineNet(5)"
      ],
      "metadata": {
        "id": "uMOllvTw31mb"
      },
      "execution_count": null,
      "outputs": []
    },
    {
      "cell_type": "code",
      "source": [
        "# инициализируем функцию потерь, эта кросс-энтропию как раз использует выходы после нейронной сети, а не после sofmax\n",
        "loss = torch.nn.CrossEntropyLoss()\n",
        "\n",
        "# делаем оптимайзер, который будет исопльзоваться для вычисления градиентных шагов\n",
        "optimizer = torch.optim.Adam(wine_net.parameters(), # параметры нейронной сети (веса, те скрытые значения, которые находятся в нейронах, которые мы хотим подбирать)\n",
        "                             lr = 1.0e-3) # learning rate - 0.001, это стандартное значение"
      ],
      "metadata": {
        "id": "3OC9ymF9SpQz"
      },
      "execution_count": null,
      "outputs": []
    },
    {
      "cell_type": "code",
      "source": [
        "np.random.permutation(5) # дает перемешанный массив от 0 до 4\n",
        "# если мы сюда подставим размер нашего трейн датасета, то получим индексы в случайном порядке. В итоге получим перемешанный датасет"
      ],
      "metadata": {
        "colab": {
          "base_uri": "https://localhost:8080/"
        },
        "id": "8ToZY3HTUCg8",
        "outputId": "1e5d3b60-1261-4f6d-dd65-168aaaeeb6c0"
      },
      "execution_count": null,
      "outputs": [
        {
          "output_type": "execute_result",
          "data": {
            "text/plain": [
              "array([2, 0, 1, 4, 3])"
            ]
          },
          "metadata": {},
          "execution_count": 7
        }
      ]
    },
    {
      "cell_type": "code",
      "source": [
        "# в реальной жизни вряд ли весь датасет поместится в памяти и обучение происходит по частям данных (batch)\n",
        "# мы отрезаем некоторый кусок данных,  считаем по нему loss, градиентный шаг, взять следующий кусок и тд\n",
        "# то есть одна эпоха(итерация всего датасета) разбивается на много маленьких частей\n",
        "batch_size = 10 # берем батч в 10 элементов\n",
        "\n",
        "for epoch in range(10000):\n",
        "    order = np.random.permutation(len(X_train)) # каждую эпоху мы будем перемешивать наш датасет и получать порядок\n",
        "\n",
        "    for start_index in range(0, len(X_train), batch_size):\n",
        "        optimizer.zero_grad()\n",
        "\n",
        "        # индексы, которые соответствуют текущему батчу\n",
        "        batch_indexes = order[start_index:start_index+batch_size] # из этого порядка будем вычислять подмножества начиная со startindex (10, 20, 30...) до  +10\n",
        "\n",
        "        x_batch = X_train[batch_indexes] # эти индексы мы возьмем из датасетов, чтобы получить данные\n",
        "        y_batch = y_train[batch_indexes] # и ответы\n",
        "\n",
        "        preds = wine_net.forward(x_batch) # пропускаем весь батч через нейросеть и получим некоторые предсказания\n",
        "\n",
        "        loss_val = loss(preds, y_batch) # считаем функцию потерь, на выходах нейронной сети и реальных значениях\n",
        "        loss_val.backward() # счиатем производную. результат этой производной, то есть градиенты, которые получились окажутся в оптимайзере, потому что он оборачивает все веса нейронной сети\n",
        "\n",
        "        optimizer.step() # делаем шаг градиентного спуска\n",
        "\n",
        "    # каждые 100 эпох, мы будем вычислять метрики на тестовом датасете, чтобы посмотреть как обучается наша нейросеть\n",
        "    if epoch % 100 == 0:\n",
        "        test_preds = wine_net.forward(X_test) # пропускаем тестовые данные через нейросеть и получаем тестовые предсказания\n",
        "        test_preds = test_preds.argmax(dim = 1) # вычисляем как выход был максимальный, чтобы понять какой класс предсказывает нейросеть нам не обязательно вычислять вероятности (софтмакс), достаточно посмотреть какой выход был наибольшим\n",
        "        print((test_preds == y_test).float().mean()) # считаем какая доля совпадения, когда нейрон с максимальным выходом совпал с реально правильным классом"
      ],
      "metadata": {
        "colab": {
          "base_uri": "https://localhost:8080/"
        },
        "id": "QwI_Q30hXoe5",
        "outputId": "ee43cb1d-d563-45f5-9a72-afe7d757f4fe"
      },
      "execution_count": null,
      "outputs": [
        {
          "output_type": "stream",
          "name": "stdout",
          "text": [
            "tensor(0.2407)\n",
            "tensor(0.5556)\n",
            "tensor(0.4815)\n",
            "tensor(0.5926)\n",
            "tensor(0.5741)\n",
            "tensor(0.7037)\n",
            "tensor(0.7593)\n",
            "tensor(0.7593)\n",
            "tensor(0.7593)\n",
            "tensor(0.7778)\n",
            "tensor(0.7963)\n",
            "tensor(0.7778)\n",
            "tensor(0.8148)\n",
            "tensor(0.8148)\n",
            "tensor(0.8519)\n",
            "tensor(0.8519)\n",
            "tensor(0.8519)\n",
            "tensor(0.8519)\n",
            "tensor(0.8519)\n",
            "tensor(0.8519)\n",
            "tensor(0.8519)\n",
            "tensor(0.8704)\n",
            "tensor(0.8704)\n",
            "tensor(0.8519)\n",
            "tensor(0.8704)\n",
            "tensor(0.8704)\n",
            "tensor(0.8704)\n",
            "tensor(0.8704)\n",
            "tensor(0.8704)\n",
            "tensor(0.8704)\n",
            "tensor(0.8704)\n",
            "tensor(0.8704)\n",
            "tensor(0.8704)\n",
            "tensor(0.8704)\n",
            "tensor(0.8704)\n",
            "tensor(0.8889)\n",
            "tensor(0.8704)\n",
            "tensor(0.8704)\n",
            "tensor(0.8704)\n",
            "tensor(0.8704)\n",
            "tensor(0.8889)\n",
            "tensor(0.8889)\n",
            "tensor(0.8889)\n",
            "tensor(0.8889)\n",
            "tensor(0.8889)\n",
            "tensor(0.8889)\n",
            "tensor(0.9074)\n",
            "tensor(0.9074)\n",
            "tensor(0.8889)\n",
            "tensor(0.9074)\n",
            "tensor(0.8704)\n",
            "tensor(0.8704)\n",
            "tensor(0.9074)\n",
            "tensor(0.9074)\n",
            "tensor(0.8704)\n",
            "tensor(0.8704)\n",
            "tensor(0.8704)\n",
            "tensor(0.8704)\n",
            "tensor(0.8889)\n",
            "tensor(0.8889)\n",
            "tensor(0.9074)\n",
            "tensor(0.8889)\n",
            "tensor(0.8889)\n",
            "tensor(0.8889)\n",
            "tensor(0.8704)\n",
            "tensor(0.8519)\n",
            "tensor(0.8889)\n",
            "tensor(0.8889)\n",
            "tensor(0.8889)\n",
            "tensor(0.8704)\n",
            "tensor(0.8704)\n",
            "tensor(0.8704)\n",
            "tensor(0.8889)\n",
            "tensor(0.8889)\n",
            "tensor(0.8889)\n",
            "tensor(0.8889)\n",
            "tensor(0.8889)\n",
            "tensor(0.8519)\n",
            "tensor(0.8889)\n",
            "tensor(0.8889)\n",
            "tensor(0.8889)\n",
            "tensor(0.8889)\n",
            "tensor(0.8889)\n",
            "tensor(0.8889)\n",
            "tensor(0.8889)\n",
            "tensor(0.8889)\n",
            "tensor(0.8519)\n",
            "tensor(0.8889)\n",
            "tensor(0.8889)\n",
            "tensor(0.8889)\n",
            "tensor(0.8889)\n",
            "tensor(0.8704)\n",
            "tensor(0.8889)\n",
            "tensor(0.8889)\n",
            "tensor(0.8889)\n",
            "tensor(0.8889)\n",
            "tensor(0.8889)\n",
            "tensor(0.8889)\n",
            "tensor(0.8519)\n",
            "tensor(0.8889)\n"
          ]
        }
      ]
    },
    {
      "cell_type": "code",
      "source": [
        "import matplotlib.pyplot as plt\n",
        "%matplotlib inline\n",
        "\n",
        "plt.rcParams['figure.figsize'] = (10, 8)\n",
        "\n",
        "n_classes = 3\n",
        "plot_colors = ['g', 'orange', 'black']\n",
        "plot_step = 0.02\n",
        "\n",
        "x_min, x_max = X_train[:, 0].min() - 1, X_train[:, 0].max() + 1\n",
        "y_min, y_max = X_train[:, 1].min() - 1, X_train[:, 1].max() + 1\n",
        "\n",
        "xx, yy = torch.meshgrid(torch.arange(x_min, x_max, plot_step),\n",
        "                        torch.arange(y_min, y_max, plot_step))\n",
        "\n",
        "preds = wine_net.inference(torch.cat([xx.reshape(-1, 1),\n",
        "                                      yy.reshape(-1, 1)], dim = 1))\n",
        "\n",
        "preds_class = preds.data.numpy().argmax(axis = 1)\n",
        "preds_class = preds_class.reshape(xx.shape)\n",
        "plt.contourf(xx, yy, preds_class, cmap = 'Accent')\n",
        "\n",
        "for i, color in zip(range(n_classes), plot_colors):\n",
        "    indexes = np.where(y_train == i)\n",
        "    plt.scatter(X_train[indexes, 0],\n",
        "                X_train[indexes, 1],\n",
        "                c = color,\n",
        "                label = wine.target_names[i],\n",
        "                cmap = 'Accent')\n",
        "    plt.xlabel(wine.feature_names[0])\n",
        "    plt.ylabel(wine.feature_names[1])\n",
        "    plt.legend()"
      ],
      "metadata": {
        "id": "DT0xpJjffBHD",
        "colab": {
          "base_uri": "https://localhost:8080/",
          "height": 720
        },
        "outputId": "871cd192-a380-4fbc-c158-c244818be15c"
      },
      "execution_count": null,
      "outputs": [
        {
          "output_type": "stream",
          "name": "stderr",
          "text": [
            "<ipython-input-13-9883a9c5302e>:25: UserWarning: No data for colormapping provided via 'c'. Parameters 'cmap' will be ignored\n",
            "  plt.scatter(X_train[indexes, 0],\n"
          ]
        },
        {
          "output_type": "display_data",
          "data": {
            "text/plain": [
              "<Figure size 1000x800 with 1 Axes>"
            ],
            "image/png": "[encoded data removed]"
          },
          "metadata": {}
        }
      ]
    },
    {
      "cell_type": "code",
      "source": [],
      "metadata": {
        "id": "Kiy8Lf92IF5G"
      },
      "execution_count": null,
      "outputs": []
    }
  ]
}